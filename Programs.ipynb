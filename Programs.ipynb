{
 "cells": [
  {
   "cell_type": "code",
   "execution_count": 3,
   "metadata": {},
   "outputs": [
    {
     "name": "stdout",
     "output_type": "stream",
     "text": [
      "enter first number5\n",
      "enter second number5\n",
      "Addition = 10\n"
     ]
    }
   ],
   "source": [
    "#1. WAP to Add two numbers\n",
    "def add(num1,num2):\n",
    "    result = num1 + num2\n",
    "    return result\n",
    "num1=int(input(\"enter first number\"))\n",
    "num2=int(input(\"enter second number\"))\n",
    "result=add(num1,num2)\n",
    "print(\"Addition = \"+ str(result))\n"
   ]
  },
  {
   "cell_type": "code",
   "execution_count": 1,
   "metadata": {},
   "outputs": [
    {
     "name": "stdout",
     "output_type": "stream",
     "text": [
      "Ceiling of 3.5 is 4\n",
      "floor of 3.5 is 3\n"
     ]
    }
   ],
   "source": [
    "#Math Functions in python\n",
    "#1.ceil() smallest integral value greater than the number\n",
    "import math\n",
    "a = 3.5\n",
    "b = math.ceil(a)\n",
    "\n",
    "print(f\"Ceiling of {a} is {b}\")\n",
    "\n",
    "#2.floor()\n",
    "b = math.floor(a)\n",
    "print(f\"floor of {a} is {b}\")"
   ]
  },
  {
   "cell_type": "code",
   "execution_count": 1,
   "metadata": {},
   "outputs": [
    {
     "name": "stdout",
     "output_type": "stream",
     "text": [
      "enter first number5\n",
      "enter second number7\n",
      "max of two numbers 5 and 7 is 7\n"
     ]
    }
   ],
   "source": [
    "#2.Maximum of 2 numbers\n",
    "def max(num1,num2):\n",
    "    if(num1 > num2):\n",
    "        print(f\"max of two numbers {num1} and {num2} is {num1}\")\n",
    "    else :\n",
    "        print(f\"max of two numbers {num1} and {num2} is {num2}\")\n",
    "\n",
    "num1 = int(input(\"enter first number :\"))\n",
    "num2 = int(input(\"enter second number :\"))\n",
    "max(num1,num2)"
   ]
  },
  {
   "cell_type": "code",
   "execution_count": 11,
   "metadata": {},
   "outputs": [
    {
     "name": "stdout",
     "output_type": "stream",
     "text": [
      "Enter the number :5\n",
      "120\n"
     ]
    }
   ],
   "source": [
    "#3.Python Program to find factorial of a number # fact(5)= 5*4*3*2*1\n",
    "def fact(num):\n",
    "    if num == 1:\n",
    "        return 1\n",
    "    else :\n",
    "        return num*fact(num-1)\n",
    "num = int(input(\"Enter the number :\"))\n",
    "value = fact(num)\n",
    "print(value)\n",
    "        "
   ]
  },
  {
   "cell_type": "code",
   "execution_count": 12,
   "metadata": {},
   "outputs": [
    {
     "name": "stdout",
     "output_type": "stream",
     "text": [
      "enter the principle amount :100\n",
      "enter the time in years :4\n",
      "enter the rate per year :20\n",
      "Simple interest is 8000\n"
     ]
    }
   ],
   "source": [
    "#4.Python Program to find simple interest (i = ptr) and compound interest A = P(1 + R/100) t\n",
    "#Compound Interest = A – P\n",
    "\n",
    "p = int(input(\"enter the principle amount :\"))\n",
    "t = int(input(\"enter the time in years :\"))\n",
    "r = int(input(\"enter the rate per year :\"))\n",
    "i= p*t*r\n",
    "\n",
    "print(f\"Simple interest is {i}\")\n",
    "\n",
    "amount = p*(pow((1+r/100),t))\n",
    "\n",
    "CI = amount-p \n",
    "print(f\"Compound interest is {CI}\")"
   ]
  },
  {
   "cell_type": "code",
   "execution_count": 5,
   "metadata": {},
   "outputs": [
    {
     "name": "stdout",
     "output_type": "stream",
     "text": [
      "Enter number to check it's armstron or not : 153\n",
      "153 is an armstrong number\n"
     ]
    }
   ],
   "source": [
    "#5. Python program to check armstrong number\n",
    "\n",
    "def armstrong(num):\n",
    "    sum =0\n",
    "    while(num>0):\n",
    "        reminder= num%10\n",
    "        sum = sum + pow(reminder,3)\n",
    "        num //=10\n",
    "    return sum\n",
    "num = int(input(\"Enter number to check it's armstron or not : \"))\n",
    "temp = num\n",
    "sum = armstrong(temp)\n",
    "if (temp == sum):\n",
    "    print(f\"{temp} is an armstrong number\")\n",
    "else :\n",
    "    print(f\"{temp} is not an armstrong number\")\n"
   ]
  },
  {
   "cell_type": "code",
   "execution_count": 3,
   "metadata": {},
   "outputs": [
    {
     "name": "stdout",
     "output_type": "stream",
     "text": [
      "Enter radius : 6\n",
      "37.69911184307752\n"
     ]
    }
   ],
   "source": [
    "#6. Python Program for Program to find area of a circle 2pir\n",
    "import math\n",
    "radius = int(input(\"Enter radius : \"))\n",
    "\n",
    "print(2*radius*math.pi)"
   ]
  },
  {
   "cell_type": "code",
   "execution_count": 2,
   "metadata": {},
   "outputs": [
    {
     "name": "stdout",
     "output_type": "stream",
     "text": [
      "Enter the start number :5\n",
      "Enter the end number : 15\n",
      "5\n",
      "7\n",
      "11\n",
      "13\n"
     ]
    }
   ],
   "source": [
    "#7.Python program to print all Prime numbers in an Interval\n",
    "start = int(input(\"Enter the start number :\"))\n",
    "end = int(input(\"Enter the end number : \"))\n",
    "for i in range(start,end):\n",
    "    if i>0 :\n",
    "        for j in range(2,i):\n",
    "            if(i%j==0):\n",
    "                break\n",
    "        else:\n",
    "            print(i)\n",
    "\n",
    "            "
   ]
  },
  {
   "cell_type": "code",
   "execution_count": 22,
   "metadata": {},
   "outputs": [
    {
     "name": "stdout",
     "output_type": "stream",
     "text": [
      "enter a number: 9\n",
      "9 is not a prime number\n"
     ]
    }
   ],
   "source": [
    "#8.Python program to check whether a number is Prime or not.\n",
    "number = int(input(\"enter a number: \"))\n",
    "for i in range(2,int(number//2)):\n",
    "    if(number%i==0):\n",
    "        print(f\"{number} is not a prime number\")\n",
    "        break\n",
    "        \n",
    "else:\n",
    "    print(f\"{number} is a prime number\")\n",
    "    \n"
   ]
  },
  {
   "cell_type": "code",
   "execution_count": null,
   "metadata": {},
   "outputs": [],
   "source": [
    
   ]
  }
 ],
 "metadata": {
  "kernelspec": {
   "display_name": "Python 3",
   "language": "python",
   "name": "python3"
  },
  "language_info": {
   "codemirror_mode": {
    "name": "ipython",
    "version": 3
   },
   "file_extension": ".py",
   "mimetype": "text/x-python",
   "name": "python",
   "nbconvert_exporter": "python",
   "pygments_lexer": "ipython3",
   "version": "3.6.12"
  }
 },
 "nbformat": 4,
 "nbformat_minor": 4
}
